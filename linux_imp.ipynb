{
 "cells": [
  {
   "cell_type": "markdown",
   "metadata": {},
   "source": [
    "# Noisy Channel Model Implementation for Machine Translation(linux)\n",
    "\n",
    "#### Based on Research Paper"
   ]
  },
  {
   "cell_type": "markdown",
   "metadata": {},
   "source": [
    "### Loading the test dataset"
   ]
  },
  {
   "cell_type": "code",
   "execution_count": 1,
   "metadata": {},
   "outputs": [
    {
     "name": "stdout",
     "output_type": "stream",
     "text": [
      "Loaded test sentences:\n",
      "Resumption of the session\n",
      "I declare resumed the session of the European Parliament adjourned on Friday 17 December 1999, and I would like once again to wish you a happy new year in the hope that you enjoyed a pleasant festive period.\n",
      "Although, as you will have seen, the dreaded 'millennium bug' failed to materialise, still the people in a number of countries suffered a series of natural disasters that truly were dreadful.\n",
      "You have requested a debate on this subject in the course of the next few days, during this part-session.\n",
      "In the meantime, I should like to observe a minute' s silence, as a number of Members have requested, on behalf of all the victims concerned, particularly those of the terrible storms, in the various countries of the European Union.\n",
      "Please rise, then, for this minute' s silence.\n",
      "(The House rose and observed a minute' s silence)\n",
      "Madam President, on a point of order.\n",
      "You will be aware from the press and television that there have been a number of bomb explosions and killings in Sri Lanka.\n",
      "One of the people assassinated very recently in Sri Lanka was Mr Kumar Ponnambalam, who had visited the European Parliament just a few months ago.\n"
     ]
    }
   ],
   "source": [
    "# Load a few English sentences (source for translation)\n",
    "test_file = \"/media/keerthan04/New Volume/NLP_Nosiy_Machine_Translation/datasets/training-parallel-europarl-v7/training/europarl-v7.de-en.en\"  # adjust the path if necessary\n",
    "with open(test_file, encoding=\"utf-8\") as f:\n",
    "    test_sentences = [line.strip() for line in f.readlines()[:10]]  # first 10 sentences\n",
    "\n",
    "print(\"Loaded test sentences:\")\n",
    "for s in test_sentences:\n",
    "    print(s)"
   ]
  },
  {
   "cell_type": "code",
   "execution_count": 2,
   "metadata": {},
   "outputs": [],
   "source": [
    "import torch\n",
    "import argparse\n",
    "from fairseq.meters import AverageMeter  # Import the class\n",
    "\n",
    "torch.serialization.add_safe_globals([AverageMeter])  # Allowlist the class\n",
    "torch.serialization.add_safe_globals([argparse.Namespace]) "
   ]
  },
  {
   "cell_type": "code",
   "execution_count": null,
   "metadata": {},
   "outputs": [
    {
     "name": "stderr",
     "output_type": "stream",
     "text": [
      "2025-03-26 08:24:34 | INFO | fairseq.file_utils | loading archive file /media/keerthan04/New Volume/NLP_Nosiy_Machine_Translation/transformers_large_models/wmt19_english_to_german/wmt19.en-de.joined-dict.ensemble/\n",
      "2025-03-26 08:24:34 | INFO | fairseq.file_utils | loading archive file /media/keerthan04/New Volume/NLP_Nosiy_Machine_Translation/transformers_large_models/wmt19_english_to_german/wmt19.en-de.joined-dict.ensemble/\n",
      "2025-03-26 08:24:37 | INFO | fairseq.tasks.translation | [en] dictionary: 42024 types\n",
      "2025-03-26 08:24:37 | INFO | fairseq.tasks.translation | [de] dictionary: 42024 types\n"
     ]
    }
   ],
   "source": [
    "from fairseq.models.transformer import TransformerModel\n",
    "\n",
    "\n",
    "direct_model_path = \"/media/keerthan04/New Volume/NLP_Nosiy_Machine_Translation/transformers_large_models/wmt19_english_to_german/wmt19.en-de.joined-dict.ensemble/\"\n",
    "direct_model_bpe_codes = \"/media/keerthan04/New Volume/NLP_Nosiy_Machine_Translation/transformers_large_models/wmt19_english_to_german/wmt19.en-de.joined-dict.ensemble/bpecodes\"\n",
    "\n",
    "# this is for the larger model \n",
    "channel_model_path = \"/media/keerthan04/New Volume/NLP_Nosiy_Machine_Translation/transformers_large_models/wmt19_german_to_english/wmt19.de-en.joined-dict.ensemble/\"\n",
    "channel_model_bpe_codes = \"/media/keerthan04/New Volume/NLP_Nosiy_Machine_Translation/transformers_large_models/wmt19_german_to_english/wmt19.de-en.joined-dict.ensemble/bpecodes\"\n",
    "\n",
    "# #this is for the smaller model\n",
    "# channel_model_path = r\"D:\\NLP Nosiy Machine Translation\\transformers_large_models\\wmt19(german_to_english)\\wmt19.de-en.joined-dict.ensemble\"\n",
    "# channel_model_bpe_codes = r\"D:\\NLP Nosiy Machine Translation\\transformers_large_models\\wmt19(german_to_english)\\wmt19.de-en.joined-dict.ensemble\\bpecodes\"\n",
    "\n",
    "# Load the direct model (English→German)\n",
    "direct = TransformerModel.from_pretrained(\n",
    "    direct_model_path,\n",
    "    checkpoint_file='model1.pt:model2.pt:model3.pt:model4.pt',  # ensemble checkpoints separated by \":\"\n",
    "    # checkpoint_file='model1.pt',  # ensemble checkpoints separated by \":\"\n",
    "    data_name_or_path=direct_model_path,\n",
    "    bpe='fastbpe',\n",
    "    bpe_codes=direct_model_bpe_codes,\n",
    "    strict=False,  # Allow missing keys\n",
    "    weights_only=False  # Ensure full checkpoint loading\n",
    ")\n",
    "\n",
    "# Load the channel model (German→English)\n",
    "channel = TransformerModel.from_pretrained(\n",
    "    channel_model_path,\n",
    "    checkpoint_file='model.pt',#smaller model so only one checkpoint file,if larger then like above ensemble checkpoints with array pass\n",
    "    data_name_or_path=channel_model_path,\n",
    "    bpe='fastbpe',\n",
    "    bpe_codes=channel_model_bpe_codes\n",
    ")\n"
   ]
  },
  {
   "cell_type": "code",
   "execution_count": null,
   "metadata": {},
   "outputs": [],
   "source": []
  }
 ],
 "metadata": {
  "kernelspec": {
   "display_name": "fairseq-env",
   "language": "python",
   "name": "python3"
  },
  "language_info": {
   "codemirror_mode": {
    "name": "ipython",
    "version": 3
   },
   "file_extension": ".py",
   "mimetype": "text/x-python",
   "name": "python",
   "nbconvert_exporter": "python",
   "pygments_lexer": "ipython3",
   "version": "3.12.3"
  }
 },
 "nbformat": 4,
 "nbformat_minor": 2
}
